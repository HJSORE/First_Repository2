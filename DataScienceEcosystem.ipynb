{
  "metadata": {
    "kernelspec": {
      "name": "python",
      "display_name": "Python (Pyodide)",
      "language": "python"
    },
    "language_info": {
      "codemirror_mode": {
        "name": "python",
        "version": 3
      },
      "file_extension": ".py",
      "mimetype": "text/x-python",
      "name": "python",
      "nbconvert_exporter": "python",
      "pygments_lexer": "ipython3",
      "version": "3.8"
    }
  },
  "nbformat_minor": 4,
  "nbformat": 4,
  "cells": [
    {
      "cell_type": "code",
      "source": "print (\"=Data Science Tools and Ecosystems=\")",
      "metadata": {
        "trusted": true
      },
      "outputs": [
        {
          "name": "stdout",
          "text": "=Data Science Tools and Ecosystems=\n",
          "output_type": "stream"
        }
      ],
      "execution_count": 1
    },
    {
      "cell_type": "code",
      "source": "print  (\"Data Science Tools and Ecosystems\")",
      "metadata": {
        "trusted": true
      },
      "outputs": [
        {
          "name": "stdout",
          "text": "Data Science Tools and Ecosystems\n",
          "output_type": "stream"
        }
      ],
      "execution_count": 3
    },
    {
      "cell_type": "markdown",
      "source": "# Data Science Tools and Ecosystems",
      "metadata": {}
    },
    {
      "cell_type": "markdown",
      "source": "In this notebook, Data Science Tools and Ecosystem are summarized.\n",
      "metadata": {}
    },
    {
      "cell_type": "markdown",
      "source": "Some of the popular languages that Data Scientists use are:\n**python**\n**R**\n**Java**",
      "metadata": {}
    },
    {
      "cell_type": "markdown",
      "source": "*Python\n*R\n*Java",
      "metadata": {}
    },
    {
      "cell_type": "code",
      "source": "\"python\",\n\"R\",\n\"Java\",",
      "metadata": {
        "trusted": true
      },
      "outputs": [
        {
          "execution_count": 4,
          "output_type": "execute_result",
          "data": {
            "text/plain": "('Java',)"
          },
          "metadata": {}
        }
      ],
      "execution_count": 4
    },
    {
      "cell_type": "markdown",
      "source": "Some of the popular languages that Data Scientists use are: \n**Pandas**\n**R**\n**Java**",
      "metadata": {}
    },
    {
      "cell_type": "code",
      "source": "ordered_list=[1,2,3]\nprint(ordered_list)\n",
      "metadata": {
        "trusted": true
      },
      "outputs": [
        {
          "name": "stdout",
          "text": "[1, 2, 3]\n",
          "output_type": "stream"
        }
      ],
      "execution_count": 4
    },
    {
      "cell_type": "markdown",
      "source": "| Data Science Tools |\n|--------------------|\n|Jupyter Notebook    |\n| RStudio            |\n|VScode              |",
      "metadata": {}
    },
    {
      "cell_type": "markdown",
      "source": " ###Below Are a Few Arithmetyic Examples \n| Results                                 |\n|-----------------------------------------|\n| 2*3                                     |\n| 245+293                                 |\n| 789-342                                 |\n\n",
      "metadata": {}
    },
    {
      "cell_type": "code",
      "source": "# Simple arethmetyic example to multiple integers\n(3*4)+5",
      "metadata": {
        "trusted": true
      },
      "outputs": [
        {
          "execution_count": 8,
          "output_type": "execute_result",
          "data": {
            "text/plain": "17"
          },
          "metadata": {}
        }
      ],
      "execution_count": 8
    },
    {
      "cell_type": "code",
      "source": "# changing 200 minutes into hours\n200/60",
      "metadata": {
        "trusted": true
      },
      "outputs": [
        {
          "execution_count": 9,
          "output_type": "execute_result",
          "data": {
            "text/plain": "3.3333333333333335"
          },
          "metadata": {}
        }
      ],
      "execution_count": 9
    },
    {
      "cell_type": "markdown",
      "source": "**Objectives**\n# 1. Pyhton Basics\n# 2. Learning bases for data analysis\n# 3. R Programming Language",
      "metadata": {}
    },
    {
      "cell_type": "markdown",
      "source": "## Author\nJackson Sorenson",
      "metadata": {}
    },
    {
      "cell_type": "code",
      "source": "",
      "metadata": {
        "trusted": true
      },
      "outputs": [],
      "execution_count": null
    }
  ]
}